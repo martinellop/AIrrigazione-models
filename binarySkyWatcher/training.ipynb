{
 "cells": [
  {
   "cell_type": "code",
   "execution_count": 1,
   "metadata": {},
   "outputs": [],
   "source": [
    "import torch\n",
    "import os\n",
    "from torch import nn\n",
    "from torch.utils.data import DataLoader\n",
    "from torch.utils.data import Dataset\n",
    "import numpy as np\n",
    "import matplotlib.pyplot as plt\n",
    "from skyModel import skyModel"
   ]
  },
  {
   "cell_type": "code",
   "execution_count": 2,
   "metadata": {},
   "outputs": [],
   "source": [
    "class skyDataset(Dataset):\n",
    "    def __init__(self, dataset_dim, data_path, label_path):\n",
    "        super().__init__()\n",
    "        self.image_w = 125\n",
    "        self.data = np.memmap(data_path, dtype='float32', mode='r', shape=(dataset_dim, 3, self.image_w, self.image_w))\n",
    "        self.label = np.memmap(label_path, dtype='uint8', mode='r', shape=(dataset_dim,))\n",
    "        self.size = dataset_dim\n",
    "\n",
    "    def __len__(self):\n",
    "        return self.size\n",
    "\n",
    "    def __getitem__(self, idx):\n",
    "        image = self.data[idx]\n",
    "        image = torch.from_numpy(np.array(image))\n",
    "\n",
    "        label = torch.tensor(self.label[idx], dtype=torch.float32)\n",
    "\n",
    "        return image, label"
   ]
  },
  {
   "cell_type": "code",
   "execution_count": 5,
   "metadata": {},
   "outputs": [],
   "source": [
    "def eval_acc(model, data_loader):\n",
    "    correct = 0\n",
    "    total = 0\n",
    "\n",
    "    with torch.no_grad():\n",
    "        for x, y_true in data_loader:\n",
    "\n",
    "            y_pred = model(x)\n",
    "            y_pred = torch.squeeze(y_pred)\n",
    "            y_pred = torch.round(y_pred)\n",
    "\n",
    "            total += y_true.size(0)\n",
    "            c = (y_pred == y_true).sum().item()\n",
    "            correct += c\n",
    "\n",
    "    return correct / total"
   ]
  },
  {
   "cell_type": "code",
   "execution_count": 3,
   "metadata": {},
   "outputs": [],
   "source": [
    "train_data = os.path.join(\".\",\"dataset\", \"train_data.npm\")\n",
    "train_label = os.path.join(\".\",\"dataset\", \"train_label.npm\")\n",
    "test_data = os.path.join(\".\",\"dataset\", \"test_data.npm\")\n",
    "test_label = os.path.join(\".\",\"dataset\", \"test_label.npm\")\n",
    "\n",
    "train_dataset = skyDataset(7200, train_data, train_label)\n",
    "test_dataset = skyDataset(2178, test_data, test_label)\n",
    "\n",
    "dl_train = DataLoader(train_dataset, batch_size=8, shuffle=True, num_workers=0)\n",
    "dl_test = DataLoader(test_dataset, batch_size=8, shuffle=True, num_workers=0)"
   ]
  },
  {
   "cell_type": "code",
   "execution_count": 4,
   "metadata": {},
   "outputs": [
    {
     "ename": "NameError",
     "evalue": "name 'eval_acc' is not defined",
     "output_type": "error",
     "traceback": [
      "\u001b[1;31m---------------------------------------------------------------------------\u001b[0m",
      "\u001b[1;31mNameError\u001b[0m                                 Traceback (most recent call last)",
      "\u001b[1;32m<ipython-input-4-e2324409c0d8>\u001b[0m in \u001b[0;36m<module>\u001b[1;34m\u001b[0m\n\u001b[0;32m     25\u001b[0m \u001b[1;33m\u001b[0m\u001b[0m\n\u001b[0;32m     26\u001b[0m         \u001b[1;32mif\u001b[0m \u001b[0mj\u001b[0m\u001b[1;33m%\u001b[0m\u001b[1;36m100\u001b[0m \u001b[1;33m==\u001b[0m \u001b[1;36m0\u001b[0m\u001b[1;33m:\u001b[0m\u001b[1;33m\u001b[0m\u001b[1;33m\u001b[0m\u001b[0m\n\u001b[1;32m---> 27\u001b[1;33m             \u001b[0mtrain_acc\u001b[0m \u001b[1;33m=\u001b[0m \u001b[0meval_acc\u001b[0m\u001b[1;33m(\u001b[0m\u001b[0mmodel\u001b[0m\u001b[1;33m,\u001b[0m \u001b[0mdl_train\u001b[0m\u001b[1;33m)\u001b[0m\u001b[1;33m\u001b[0m\u001b[1;33m\u001b[0m\u001b[0m\n\u001b[0m\u001b[0;32m     28\u001b[0m             \u001b[0mtest_acc\u001b[0m \u001b[1;33m=\u001b[0m \u001b[0meval_acc\u001b[0m\u001b[1;33m(\u001b[0m\u001b[0mmodel\u001b[0m\u001b[1;33m,\u001b[0m \u001b[0mdl_test\u001b[0m\u001b[1;33m)\u001b[0m\u001b[1;33m\u001b[0m\u001b[1;33m\u001b[0m\u001b[0m\n\u001b[0;32m     29\u001b[0m             \u001b[0mprint\u001b[0m\u001b[1;33m(\u001b[0m\u001b[1;34m\"Epoch:\"\u001b[0m\u001b[1;33m,\u001b[0m \u001b[0mi\u001b[0m\u001b[1;33m,\u001b[0m \u001b[1;34m\"Batch:\"\u001b[0m\u001b[1;33m,\u001b[0m \u001b[0mj\u001b[0m\u001b[1;33m)\u001b[0m\u001b[1;33m\u001b[0m\u001b[1;33m\u001b[0m\u001b[0m\n",
      "\u001b[1;31mNameError\u001b[0m: name 'eval_acc' is not defined"
     ]
    }
   ],
   "source": [
    "learning_rate = 0.01\n",
    "epoch_num = 10\n",
    "\n",
    "model = skyModel()\n",
    "loss_fn = nn.BCELoss()\n",
    "optimizer = torch.optim.SGD(model.parameters(), lr=learning_rate)\n",
    "\n",
    "loss_values = []\n",
    "train_accs = []\n",
    "test_accs = []\n",
    "\n",
    "for i in range(epoch_num):\n",
    "    for j, (x, y_true) in enumerate(dl_train):\n",
    "        y_pred = model(x)\n",
    "        y_pred = torch.squeeze(y_pred)\n",
    "\n",
    "        loss = loss_fn(y_pred, y_true)\n",
    "        l = loss.item()\n",
    "        loss_values.append(l)\n",
    "        #print(\"Epoch:\", i, \"Batch:\", j, \"Loss:\", l)\n",
    "\n",
    "        optimizer.zero_grad()\n",
    "        loss.backward()\n",
    "        optimizer.step()\n",
    "\n",
    "        if j%100 == 0:\n",
    "            train_acc = eval_acc(model, dl_train)\n",
    "            test_acc = eval_acc(model, dl_test)\n",
    "            print(\"Epoch:\", i, \"Batch:\", j)\n",
    "            print(\"Train acc:\", train_acc)\n",
    "            print(\"Test acc:\", test_acc , \"\\n\")\n",
    "            train_accs.append(train_acc)\n",
    "            test_accs.append(test_accs)\n",
    "\n",
    "\n",
    "torch.save(model.state_dict(), \"skyModel.bin\")\n",
    "#print(loss_values)\n",
    "#print(train_accs)\n",
    "#print(test_accs)\n",
    "\n",
    "print(\"final train accuracy: \", eval_acc(model, dl_train))\n",
    "print(\"final test accuracy: \", eval_acc(model, dl_test))"
   ]
  }
 ],
 "metadata": {
  "kernelspec": {
   "display_name": "Python 3.8.8 ('base')",
   "language": "python",
   "name": "python3"
  },
  "language_info": {
   "codemirror_mode": {
    "name": "ipython",
    "version": 3
   },
   "file_extension": ".py",
   "mimetype": "text/x-python",
   "name": "python",
   "nbconvert_exporter": "python",
   "pygments_lexer": "ipython3",
   "version": "3.8.8"
  },
  "orig_nbformat": 4,
  "vscode": {
   "interpreter": {
    "hash": "ad2bdc8ecc057115af97d19610ffacc2b4e99fae6737bb82f5d7fb13d2f2c186"
   }
  }
 },
 "nbformat": 4,
 "nbformat_minor": 2
}
