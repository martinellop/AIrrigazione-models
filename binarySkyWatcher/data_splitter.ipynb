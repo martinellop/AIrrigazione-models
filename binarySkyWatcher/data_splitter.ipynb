{
 "cells": [
  {
   "cell_type": "code",
   "execution_count": 1,
   "metadata": {},
   "outputs": [
    {
     "ename": "ModuleNotFoundError",
     "evalue": "No module named 'numpy'",
     "output_type": "error",
     "traceback": [
      "\u001b[1;31m---------------------------------------------------------------------------\u001b[0m",
      "\u001b[1;31mModuleNotFoundError\u001b[0m                       Traceback (most recent call last)",
      "\u001b[1;32md:\\Data\\Università\\AIrrigazione-models\\binarySkyWatcher\\data_splitter.ipynb Cella 1\u001b[0m in \u001b[0;36m<cell line: 3>\u001b[1;34m()\u001b[0m\n\u001b[0;32m      <a href='vscode-notebook-cell:/d%3A/Data/Universit%C3%A0/AIrrigazione-models/binarySkyWatcher/data_splitter.ipynb#W0sZmlsZQ%3D%3D?line=0'>1</a>\u001b[0m \u001b[39mimport\u001b[39;00m \u001b[39mshutil\u001b[39;00m\n\u001b[0;32m      <a href='vscode-notebook-cell:/d%3A/Data/Universit%C3%A0/AIrrigazione-models/binarySkyWatcher/data_splitter.ipynb#W0sZmlsZQ%3D%3D?line=1'>2</a>\u001b[0m \u001b[39mimport\u001b[39;00m \u001b[39mos\u001b[39;00m\n\u001b[1;32m----> <a href='vscode-notebook-cell:/d%3A/Data/Universit%C3%A0/AIrrigazione-models/binarySkyWatcher/data_splitter.ipynb#W0sZmlsZQ%3D%3D?line=2'>3</a>\u001b[0m \u001b[39mimport\u001b[39;00m \u001b[39mnumpy\u001b[39;00m \u001b[39mas\u001b[39;00m \u001b[39mnp\u001b[39;00m\n\u001b[0;32m      <a href='vscode-notebook-cell:/d%3A/Data/Universit%C3%A0/AIrrigazione-models/binarySkyWatcher/data_splitter.ipynb#W0sZmlsZQ%3D%3D?line=3'>4</a>\u001b[0m \u001b[39mimport\u001b[39;00m \u001b[39mcv2\u001b[39;00m\n\u001b[0;32m      <a href='vscode-notebook-cell:/d%3A/Data/Universit%C3%A0/AIrrigazione-models/binarySkyWatcher/data_splitter.ipynb#W0sZmlsZQ%3D%3D?line=4'>5</a>\u001b[0m \u001b[39mimport\u001b[39;00m \u001b[39mmath\u001b[39;00m\n",
      "\u001b[1;31mModuleNotFoundError\u001b[0m: No module named 'numpy'"
     ]
    }
   ],
   "source": [
    "import shutil\n",
    "import os\n",
    "import numpy as np\n",
    "import cv2\n",
    "import math"
   ]
  },
  {
   "cell_type": "code",
   "execution_count": 3,
   "metadata": {},
   "outputs": [],
   "source": [
    "test_image_w = 125\n",
    "def get_files_from_folder(path):\n",
    "\n",
    "    files = os.listdir(path)\n",
    "    return np.asarray(files)\n",
    "\n",
    "def get_center_square_subpicture(original_image, final_width:int):\n",
    "    input_h, input_w = original_image.shape[:2]\n",
    "    square_width = min(input_w,input_h)\n",
    "    offset_height = (input_h - square_width) // 2\n",
    "    offset_width = (input_w - square_width) // 2\n",
    "\n",
    "    image = original_image[offset_height:offset_height+square_width, offset_width:offset_width+square_width,:]\n",
    "    \n",
    "    new_dim = (final_width, final_width)\n",
    "    # resize image\n",
    "    resized = cv2.resize(image, new_dim, interpolation = cv2.INTER_AREA)\n",
    "    return resized\n",
    "\n",
    "def split_dataset(path_to_data, path_to_train_data, path_to_test_data, train_ratio):\n",
    "    # get dirs\n",
    "    _, dirs, _ = next(os.walk(path_to_data))\n",
    "\n",
    "    #lets clean the directories\n",
    "    if os.path.exists(path_to_train_data):\n",
    "        shutil.rmtree(path_to_train_data)\n",
    "    if os.path.exists(path_to_test_data):\n",
    "        shutil.rmtree(path_to_test_data)\t\n",
    "    \n",
    "    for i in range(len(dirs)):\n",
    "        path_to_original = os.path.join(path_to_data, dirs[i])\n",
    "        files = get_files_from_folder(path_to_original)\n",
    "        elements = len(files)\n",
    "        if elements <= 0:\n",
    "            continue\n",
    "        train_data_number = (np.round(elements * train_ratio)).astype(np.int64)\n",
    "\n",
    "        train_index = np.random.choice(range(elements), size=train_data_number,replace=False)\n",
    "        test_index= np.delete(np.array(range(elements)), train_index)\n",
    "\n",
    "        train_dataset = files[train_index]\n",
    "        test_dataset = files[test_index]\n",
    "\n",
    "        path_to_save_training = os.path.join(path_to_train_data, dirs[i])\n",
    "\n",
    "        #Since we are grouping classes 1-2-3 and 4-5, here let's split the test dataset in these two subsets.\n",
    "        if(int(dirs[i]) <=3):\n",
    "            path_to_save_test = os.path.join(path_to_test_data, \"0\")\n",
    "        else:\n",
    "            path_to_save_test = os.path.join(path_to_test_data, \"1\")\n",
    "\n",
    "        #eventually creates dir\n",
    "        if not os.path.exists(path_to_save_training):\n",
    "            os.makedirs(path_to_save_training)\n",
    "        if not os.path.exists(path_to_save_test):\n",
    "            os.makedirs(path_to_save_test)\n",
    "\n",
    "        # copy training data\n",
    "        for j in range(len(train_dataset)):\n",
    "            dst = os.path.join(path_to_save_training, train_dataset[j])\n",
    "            src = os.path.join(path_to_original, train_dataset[j])\n",
    "            shutil.copy(src, dst)\n",
    "\n",
    "        # copy test data\n",
    "        for j in range(len(test_dataset)):\n",
    "            src = os.path.join(path_to_original, test_dataset[j])\n",
    "            img = cv2.imread(src)\n",
    "            img = get_center_square_subpicture(img, test_image_w)\n",
    "\n",
    "            destination = os.path.join(path_to_save_test, f\"{dirs[i]}_{j}.jpg\")\n",
    "\n",
    "            cv2.imwrite(destination, img)\n",
    "\n"
   ]
  },
  {
   "cell_type": "code",
   "execution_count": 4,
   "metadata": {},
   "outputs": [],
   "source": [
    "all_pictures_folder = os.path.join(\".\",\"original_pictures\")\n",
    "train_folder_original = os.path.join(\".\",\"tmp\", \"train_set\")\n",
    "test_folder_original = os.path.join(\".\",\"dataset\", \"test\")\n",
    "\n",
    "#let's split pictures in train and test subsets.\n",
    "#this will shuffle/reshuffle pics, dividing them in train and test subsets.\n",
    "split_dataset(all_pictures_folder, train_folder_original, test_folder_original, 0.7)"
   ]
  }
 ],
 "metadata": {
  "kernelspec": {
   "display_name": "Python 3.8.13 ('aiRRIGAZIONE')",
   "language": "python",
   "name": "python3"
  },
  "language_info": {
   "codemirror_mode": {
    "name": "ipython",
    "version": 3
   },
   "file_extension": ".py",
   "mimetype": "text/x-python",
   "name": "python",
   "nbconvert_exporter": "python",
   "pygments_lexer": "ipython3",
   "version": "3.8.13"
  },
  "orig_nbformat": 4,
  "vscode": {
   "interpreter": {
    "hash": "f779ec4f4b07e7a4ee0d709c8d1e5ad16ddbe6b18946f1020f92066c86465805"
   }
  }
 },
 "nbformat": 4,
 "nbformat_minor": 2
}
